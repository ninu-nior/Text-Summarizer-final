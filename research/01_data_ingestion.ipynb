{
 "cells": [
  {
   "cell_type": "code",
   "execution_count": 200,
   "metadata": {},
   "outputs": [],
   "source": [
    "import os"
   ]
  },
  {
   "cell_type": "code",
   "execution_count": 201,
   "metadata": {},
   "outputs": [
    {
     "data": {
      "text/plain": [
       "'c:\\\\Users\\\\Nehal\\\\Desktop\\\\Text-Summarizer-final'"
      ]
     },
     "execution_count": 201,
     "metadata": {},
     "output_type": "execute_result"
    }
   ],
   "source": [
    "#now we have to change the directory to the root folder\n",
    "%pwd\n",
    "#so nnow we are in the research folder, but everything we have to perform in the root folder"
   ]
  },
  {
   "cell_type": "code",
   "execution_count": 202,
   "metadata": {},
   "outputs": [
    {
     "data": {
      "text/plain": [
       "'c:\\\\Users\\\\Nehal\\\\Desktop\\\\Text-Summarizer-final'"
      ]
     },
     "execution_count": 202,
     "metadata": {},
     "output_type": "execute_result"
    }
   ],
   "source": [
    "#to go back one folder\n",
    "os.chdir(\"c://Users/Nehal/Desktop/Text-Summarizer-final\")\n",
    "%pwd\n",
    "#now we are in the root folder"
   ]
  },
  {
   "cell_type": "code",
   "execution_count": 203,
   "metadata": {},
   "outputs": [],
   "source": [
    "from dataclasses import dataclass\n",
    "from pathlib import Path\n",
    "\n",
    "#now define a decorator\n",
    "#this is not a python actual class, it is a data class, you can mention your variables here\n",
    "#this eentire thing is an entity, it is the return type of a function\n",
    "#whenever we create data ingestion configuration, at the time, dataingestionclass will return these variables\n",
    "#we can take these variables and use it, when we call root_dir, it will automatically return that path mentioned in yaml\n",
    "@dataclass(frozen=True)\n",
    "class DataIngestionConfig:\n",
    "    root_dir: Path\n",
    "    source_URL:str\n",
    "    local_data_file: Path\n",
    "    unzip_dir: Path"
   ]
  },
  {
   "cell_type": "code",
   "execution_count": 204,
   "metadata": {},
   "outputs": [],
   "source": [
    "#import all the constants\n",
    "from textSummarizer.constants import *\n",
    "from textSummarizer.utils.common import read_yaml, create_directories\n"
   ]
  },
  {
   "cell_type": "code",
   "execution_count": 205,
   "metadata": {},
   "outputs": [],
   "source": [
    "from pathlib import Path\n",
    "class ConfigurationManager:\n",
    "    def __init__(\n",
    "        self,\n",
    "        config_filepath = Path(\"config/config.yaml\"),\n",
    "        params_filepath=PARAMS_FILE_PATH\n",
    "    ):\n",
    "        #it will read this yaml file and we can access all the variables\n",
    "        self.config=read_yaml(config_filepath)\n",
    "        self.params=read_yaml(params_filepath)\n",
    "        create_directories([self.config.artifacts_root])\n",
    "    \n",
    "    \n",
    "    def get_data_ingestion_config(self)-> DataIngestionConfig:\n",
    "        config=self.config.data_ingestion\n",
    "        create_directories([config.root_dir])\n",
    "        data_ingestion_config=DataIngestionConfig(\n",
    "            root_dir=config.root_dir,\n",
    "            source_URL=config.source_URL,\n",
    "            local_data_file=config.local_data_file,\n",
    "            unzip_dir=config.unzip_dir\n",
    "            \n",
    "        )\n",
    "        return data_ingestion_config\n",
    "    #hence we have created our custom datatype of any function using dataclass we call it entity\n",
    "    #now we can easily call the dataIngestion configuration and access everything\n",
    "    "
   ]
  },
  {
   "cell_type": "code",
   "execution_count": 206,
   "metadata": {},
   "outputs": [],
   "source": [
    "#now creating components\n",
    "import os \n",
    "import urllib.request as request # to download data from url\n",
    "import zipfile #to unzip the data\n",
    "from textSummarizer.logging import logger\n",
    "from textSummarizer.utils.common import get_size"
   ]
  },
  {
   "cell_type": "code",
   "execution_count": 207,
   "metadata": {},
   "outputs": [],
   "source": [
    "class DataIngestion:\n",
    "    def __init__(self,config:DataIngestionConfig):\n",
    "        self.config=config\n",
    "        \n",
    "    def download_file(self):\n",
    "        if not os.path.exists(self.config.local_data_file):\n",
    "            filename,headers=request.urlretrieve(\n",
    "                url=self.config.source_URL,\n",
    "                filename=self.config.local_data_file\n",
    "                \n",
    "            )\n",
    "            logger.info(f\"{filename}downloaded with the following info : \\n{headers}\")\n",
    "        else:\n",
    "            logger.info(f\"file already exists of size: {get_size(Path(self.config.local_data_file))}\")\n",
    "            \n",
    "            \n",
    "            \n",
    "    def extract_zip_file(self):\n",
    "        unzip_path=self.config.unzip_dir\n",
    "        os.makedirs(unzip_path,exist_ok=True)\n",
    "        with zipfile.ZipFile(self.config.local_data_file,'r') as zip_ref:\n",
    "            zip_ref.extractall(unzip_path)\n",
    "        "
   ]
  },
  {
   "cell_type": "code",
   "execution_count": 208,
   "metadata": {},
   "outputs": [
    {
     "name": "stdout",
     "output_type": "stream",
     "text": [
      "{2024-09-13 20:45:33,306: INFO: common: yaml file: config\\config.yaml loaded successfully}\n",
      "{2024-09-13 20:45:33,308: INFO: common: yaml file: params.yaml loaded successfully}\n",
      "{2024-09-13 20:45:33,309: INFO: common: Directory created at artifacts}\n",
      "{2024-09-13 20:45:33,310: INFO: common: Directory created at artifacts/data_ingestion}\n",
      "{2024-09-13 20:45:48,258: INFO: 2981561069: artifacts/data_ingestion/data.zipdownloaded with the following info : \n",
      "Connection: close\n",
      "Content-Length: 7903594\n",
      "Cache-Control: max-age=300\n",
      "Content-Security-Policy: default-src 'none'; style-src 'unsafe-inline'; sandbox\n",
      "Content-Type: application/zip\n",
      "ETag: \"dbc016a060da18070593b83afff580c9b300f0b6ea4147a7988433e04df246ca\"\n",
      "Strict-Transport-Security: max-age=31536000\n",
      "X-Content-Type-Options: nosniff\n",
      "X-Frame-Options: deny\n",
      "X-XSS-Protection: 1; mode=block\n",
      "X-GitHub-Request-Id: BF0C:35E03B:A9691:C61D9:66E45715\n",
      "Accept-Ranges: bytes\n",
      "Date: Fri, 13 Sep 2024 15:15:36 GMT\n",
      "Via: 1.1 varnish\n",
      "X-Served-By: cache-maa10222-MAA\n",
      "X-Cache: MISS\n",
      "X-Cache-Hits: 0\n",
      "X-Timer: S1726240535.831816,VS0,VE1219\n",
      "Vary: Authorization,Accept-Encoding,Origin\n",
      "Access-Control-Allow-Origin: *\n",
      "Cross-Origin-Resource-Policy: cross-origin\n",
      "X-Fastly-Request-ID: 4ebaffd705fcbaa70902e6db1fbc0d563b046a15\n",
      "Expires: Fri, 13 Sep 2024 15:20:36 GMT\n",
      "Source-Age: 1\n",
      "\n",
      "}\n"
     ]
    }
   ],
   "source": [
    "#Now component creation is done, now we have to create a pipeline\n",
    "#first we will handle the try except block, we will initialize configuration manager,\n",
    "#we will take the data ingestion configuration and store it \n",
    "#then we will call the data ingestion components and it will take those data ingestion configuration,\n",
    "# then we will execute those two methods, download the data and extract the zip file\n",
    "try:\n",
    "    config=ConfigurationManager()\n",
    "    data_ingestion_config=config.get_data_ingestion_config()\n",
    "    data_ingestion=DataIngestion(config=data_ingestion_config)\n",
    "    data_ingestion.download_file()\n",
    "    data_ingestion.extract_zip_file()\n",
    "except Exception as e:\n",
    "    raise e"
   ]
  },
  {
   "cell_type": "code",
   "execution_count": 209,
   "metadata": {},
   "outputs": [
    {
     "name": "stdout",
     "output_type": "stream",
     "text": [
      "config\\config.yaml\n",
      "True\n"
     ]
    }
   ],
   "source": [
    "from pathlib import Path\n",
    "\n",
    "# Convert the string into a Path object\n",
    "config_path = Path(\"config/config.yaml\")\n",
    "\n",
    "# Now you can use it as a Path object\n",
    "print(config_path)  # Output: config/config.yaml\n",
    "print(config_path.exists())  # Check if the file exists\n"
   ]
  },
  {
   "cell_type": "code",
   "execution_count": null,
   "metadata": {},
   "outputs": [],
   "source": []
  },
  {
   "cell_type": "code",
   "execution_count": null,
   "metadata": {},
   "outputs": [],
   "source": []
  },
  {
   "cell_type": "code",
   "execution_count": null,
   "metadata": {},
   "outputs": [],
   "source": []
  },
  {
   "cell_type": "code",
   "execution_count": null,
   "metadata": {},
   "outputs": [],
   "source": []
  }
 ],
 "metadata": {
  "kernelspec": {
   "display_name": ".venv",
   "language": "python",
   "name": "python3"
  },
  "language_info": {
   "codemirror_mode": {
    "name": "ipython",
    "version": 3
   },
   "file_extension": ".py",
   "mimetype": "text/x-python",
   "name": "python",
   "nbconvert_exporter": "python",
   "pygments_lexer": "ipython3",
   "version": "3.12.4"
  }
 },
 "nbformat": 4,
 "nbformat_minor": 2
}
